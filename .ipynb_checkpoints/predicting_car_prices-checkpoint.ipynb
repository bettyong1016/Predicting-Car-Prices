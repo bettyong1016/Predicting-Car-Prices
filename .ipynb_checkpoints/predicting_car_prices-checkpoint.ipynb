{
 "cells": [
  {
   "cell_type": "markdown",
   "metadata": {},
   "source": [
    "\n",
    "## Predicting Car Prices - Machine Learning Project\n",
    "\n",
    "### Using Machine learning using the k-nearest neighbors algorithm\n",
    "\n",
    "For each car we have information about the technical aspects of the vehicle such as the motor's displacement, the weight of the car, the miles per gallon, how fast the car accelerates, and more. \n",
    "\n",
    "Instructions\n",
    "\n",
    "* Read imports-85.data into a dataframe named cars. If you read in the file using pandas.read_csv() without specifying any additional parameter values, you'll notice that the column names don't match the ones in the dataset's documentation. Why do you think this is and how can you fix this?\n",
    "* Determine which columns are numeric and can be used as features and which column is the target column.\n",
    "* \n",
    "Display the first few rows of the dataframe and make sure it looks like the data set preview.\n"
   ]
  },
  {
   "cell_type": "markdown",
   "metadata": {},
   "source": [
    "We usually can't have any missing values if we want to use them for predictive modeling. Based on the data set preview from the last step, we can tell that the normalized-losses column contains missing values represented using \"?\". Let's replace these values and look for the presence of missing values in other numeric columns. Let's also rescale the values in the numeric columns so they all range from 0 to 1.\n",
    "\n",
    "Instructions\n",
    "\n",
    "* Use the DataFrame.replace() method to replace all of the ? values with the numpy.nan missing value.\n",
    "* Because ? is a string value, columns containing this value were cast to the pandas object data type (instead of a numeric type like int or float). After replacing the ? values, determine which columns need to be converted to numeric types. You can use either the DataFrame.astype() or the Series.astype() methods to convert column types.\n",
    "* Return the number of rows that have a missing value for the normalized-losses column. Determine how you should handle this column. You could:\n",
    "* Replace the missing values using the average values from that column.\n",
    "* Drop the rows entirely (especially if other columns in those rows have missing values).\n",
    "* Drop the column entirely.\n",
    "* Explore the missing value counts for the other numeric columns and handle any missing values.\n",
    "* Of the columns you decided to keep, normalize the numeric ones so all values range from 0 to 1."
   ]
  },
  {
   "cell_type": "markdown",
   "metadata": {},
   "source": [
    "Let's start with some univariate k-nearest neighbors models. Starting with simple models before moving to more complex models helps us structure your code workflow and understand the features better.\n",
    "\n",
    "Instructions\n",
    "\n",
    "* Create a function, named knn_train_test() that encapsulates the training and simple validation process. This function should have 3 parameters -- training column name, target column name, and the dataframe object.\n",
    "This function should split the data set into a training and test set.\n",
    "Then, it should instantiate the KNeighborsRegressor class, fit the model on the training set, and make predictions on the test set.\n",
    "Finally, it should calculate the RMSE and return that value.\n",
    "Use this function to train and test univariate models using the different numeric columns in the data set. Which column performed the best using the default k value?\n",
    "Modify the knn_train_test() function you wrote to accept a parameter for the k value.\n",
    "Update the function logic to use this parameter.\n",
    "For each numeric column, create, train, and test a univariate model using the following k values (1, 3, 5, 7, and 9). Visualize the results using a scatter plot or a line plot."
   ]
  },
  {
   "cell_type": "markdown",
   "metadata": {},
   "source": [
    "Let's modify the knn_train_test() function we wrote in the last step to work with multiple columns.\n",
    "\n",
    "Instructions\n",
    "\n",
    "* Modify the knn_train_test() function to accept a list of column names (instead of just a string). Modify the rest of the function logic to use this parameter:\n",
    "* Instead of using just a single column for train and test, use all of the columns passed in.\n",
    "* Use a the default k value from scikit-learn for now (we'll tune the k value in the next step).\n",
    "* Use the best 2 features from the previous step to train and test a multivariate k-nearest neighbors model using the default k value.\n",
    "* Use the best 3 features from the previous step to train and test a multivariate k-nearest neighbors model using the default k value.\n",
    "* Use the best 4 features from the previous step to train and test a multivariate k-nearest neighbors model using the default k value.\n",
    "* Use the best 5 features from the previous step to train and test a multivariate k-nearest neighbors model using the default k value.\n",
    "* \n",
    "Display all of the RMSE values."
   ]
  },
  {
   "cell_type": "markdown",
   "metadata": {},
   "source": [
    "Let's now optimize the model that performed the best in the previous step.\n",
    "\n",
    "Instructions\n",
    "\n",
    "* For the top 3 models in the last step, vary the hyperparameter value from 1 to 25 and plot the resulting RMSE values.\n",
    "* Which k value is optimal for each model? How different are the k values and what do you think accounts for the differences?"
   ]
  },
  {
   "cell_type": "markdown",
   "metadata": {},
   "source": [
    "That's it for the guided steps. Here are some ideas for next steps:\n",
    "\n",
    "Modify the knn_train_test() function to use k-fold cross validation instead of test/train validation.\n",
    "Modify the knn_train_test() function to perform the data cleaning as well."
   ]
  },
  {
   "cell_type": "code",
   "execution_count": 1,
   "metadata": {},
   "outputs": [],
   "source": [
    "#test\n"
   ]
  },
  {
   "cell_type": "code",
   "execution_count": null,
   "metadata": {},
   "outputs": [],
   "source": []
  }
 ],
 "metadata": {
  "kernelspec": {
   "display_name": "Python 3",
   "language": "python",
   "name": "python3"
  },
  "language_info": {
   "codemirror_mode": {
    "name": "ipython",
    "version": 3
   },
   "file_extension": ".py",
   "mimetype": "text/x-python",
   "name": "python",
   "nbconvert_exporter": "python",
   "pygments_lexer": "ipython3",
   "version": "3.8.3"
  }
 },
 "nbformat": 4,
 "nbformat_minor": 4
}
